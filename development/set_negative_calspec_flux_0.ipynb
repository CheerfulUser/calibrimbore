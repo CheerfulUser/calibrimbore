{
 "cells": [
  {
   "cell_type": "code",
   "execution_count": 9,
   "id": "137f4e82",
   "metadata": {},
   "outputs": [],
   "source": [
    "import numpy as np\n",
    "from glob import glob\n",
    "import astropy.table as at"
   ]
  },
  {
   "cell_type": "code",
   "execution_count": 3,
   "id": "a88db4c9",
   "metadata": {},
   "outputs": [],
   "source": [
    "files = glob('../calibrimbore/data/calspec/*')"
   ]
  },
  {
   "cell_type": "code",
   "execution_count": 24,
   "id": "e6f7587d",
   "metadata": {},
   "outputs": [
    {
     "name": "stdout",
     "output_type": "stream",
     "text": [
      "False\n"
     ]
    }
   ],
   "source": [
    "for file in files[:1]:\n",
    "    a = at.Table.read(file, format='ascii')\n",
    "    print((a['flux'] < 0).any())\n",
    "    a['flux'][a['flux'] < 0] = 0\n",
    "    #a.write(file, format='ascii')"
   ]
  },
  {
   "cell_type": "code",
   "execution_count": 19,
   "id": "7600b9e0",
   "metadata": {},
   "outputs": [],
   "source": []
  },
  {
   "cell_type": "code",
   "execution_count": 10,
   "id": "1047f167",
   "metadata": {},
   "outputs": [
    {
     "data": {
      "text/html": [
       "<i>Table length=3667</i>\n",
       "<table id=\"table140658712267088\" class=\"table-striped table-bordered table-condensed\">\n",
       "<thead><tr><th>wave</th><th>flux</th></tr></thead>\n",
       "<thead><tr><th>float64</th><th>float64</th></tr></thead>\n",
       "<tr><td>1140.474853515625</td><td>8.697e-14</td></tr>\n",
       "<tr><td>1141.059082</td><td>8.4727e-14</td></tr>\n",
       "<tr><td>1141.643188</td><td>7.7363e-14</td></tr>\n",
       "<tr><td>1142.227417</td><td>7.1738e-14</td></tr>\n",
       "<tr><td>1142.811646</td><td>7.2231e-14</td></tr>\n",
       "<tr><td>1143.395874</td><td>7.075e-14</td></tr>\n",
       "<tr><td>1143.97998</td><td>7.3085e-14</td></tr>\n",
       "<tr><td>1144.564209</td><td>7.3769e-14</td></tr>\n",
       "<tr><td>1145.148438</td><td>6.6009e-14</td></tr>\n",
       "<tr><td>1145.732666</td><td>7.8559e-14</td></tr>\n",
       "<tr><td>...</td><td>...</td></tr>\n",
       "<tr><td>10194.546875</td><td>1.3206e-16</td></tr>\n",
       "<tr><td>10199.418945</td><td>1.122e-17</td></tr>\n",
       "<tr><td>10204.291016</td><td>3.5941e-17</td></tr>\n",
       "<tr><td>10209.162109</td><td>6.5409e-17</td></tr>\n",
       "<tr><td>10214.03418</td><td>7.8226e-17</td></tr>\n",
       "<tr><td>10218.90625</td><td>1.0845e-16</td></tr>\n",
       "<tr><td>10223.77832</td><td>8.453e-17</td></tr>\n",
       "<tr><td>10228.649414</td><td>6.4458e-17</td></tr>\n",
       "<tr><td>10233.521484</td><td>1.6817e-16</td></tr>\n",
       "<tr><td>10238.392578</td><td>1.2164e-16</td></tr>\n",
       "</table>"
      ],
      "text/plain": [
       "<Table length=3667>\n",
       "       wave          flux   \n",
       "     float64       float64  \n",
       "----------------- ----------\n",
       "1140.474853515625  8.697e-14\n",
       "      1141.059082 8.4727e-14\n",
       "      1141.643188 7.7363e-14\n",
       "      1142.227417 7.1738e-14\n",
       "      1142.811646 7.2231e-14\n",
       "      1143.395874  7.075e-14\n",
       "       1143.97998 7.3085e-14\n",
       "      1144.564209 7.3769e-14\n",
       "      1145.148438 6.6009e-14\n",
       "      1145.732666 7.8559e-14\n",
       "              ...        ...\n",
       "     10194.546875 1.3206e-16\n",
       "     10199.418945  1.122e-17\n",
       "     10204.291016 3.5941e-17\n",
       "     10209.162109 6.5409e-17\n",
       "      10214.03418 7.8226e-17\n",
       "      10218.90625 1.0845e-16\n",
       "      10223.77832  8.453e-17\n",
       "     10228.649414 6.4458e-17\n",
       "     10233.521484 1.6817e-16\n",
       "     10238.392578 1.2164e-16"
      ]
     },
     "execution_count": 10,
     "metadata": {},
     "output_type": "execute_result"
    }
   ],
   "source": []
  },
  {
   "cell_type": "code",
   "execution_count": null,
   "id": "47ab0e3d",
   "metadata": {},
   "outputs": [],
   "source": []
  }
 ],
 "metadata": {
  "kernelspec": {
   "display_name": "Python 3",
   "language": "python",
   "name": "python3"
  },
  "language_info": {
   "codemirror_mode": {
    "name": "ipython",
    "version": 3
   },
   "file_extension": ".py",
   "mimetype": "text/x-python",
   "name": "python",
   "nbconvert_exporter": "python",
   "pygments_lexer": "ipython3",
   "version": "3.7.7"
  }
 },
 "nbformat": 4,
 "nbformat_minor": 5
}
